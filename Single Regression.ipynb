{
 "cells": [
  {
   "cell_type": "code",
   "execution_count": 13,
   "id": "ultimate-snake",
   "metadata": {},
   "outputs": [
    {
     "name": "stdout",
     "output_type": "stream",
     "text": [
      "        Price   Age      KM FuelType   HP  MetColor Automatic      CC  Doors  \\\n",
      "0      7450.0  65.0   82000   Petrol   86         1         0  1300.0      3   \n",
      "1         NaN  74.0     NaN   Petrol   ##         1         0     NaN      3   \n",
      "2      8950.0  80.0   64000      NaN  110         0      ####  1600.0  Three   \n",
      "3     11450.0  54.0     NaN   Petrol  NaN         0         0     NaN      5   \n",
      "4         NaN  42.0      ##   Petrol  110         1         0  1600.0    NaN   \n",
      "...       ...   ...     ...      ...  ...       ...       ...     ...    ...   \n",
      "1441   8750.0  68.0  101889   petrol  110         1         0  1600.0      5   \n",
      "1442   9950.0  62.0  109547   petrol  110         0         0  1600.0      5   \n",
      "1443   9250.0  80.0   44444   Petrol  110         1         0  1600.0      3   \n",
      "1444  12450.0  54.0   46230   Petrol  110         1         0  1600.0      3   \n",
      "1445   8500.0  77.0   62285   Petrol  110         1         0  1600.0      5   \n",
      "\n",
      "      Weight  \n",
      "0     1015.0  \n",
      "1     1050.0  \n",
      "2        NaN  \n",
      "3     1080.0  \n",
      "4     1040.0  \n",
      "...      ...  \n",
      "1441  1075.0  \n",
      "1442  1075.0  \n",
      "1443  1050.0  \n",
      "1444  1055.0  \n",
      "1445  1075.0  \n",
      "\n",
      "[1446 rows x 10 columns]\n"
     ]
    }
   ],
   "source": [
    "import pandas as pd\n",
    "data=pd.read_csv('Toyota.csv')\n",
    "print(data)"
   ]
  },
  {
   "cell_type": "code",
   "execution_count": 17,
   "id": "threaded-minnesota",
   "metadata": {},
   "outputs": [
    {
     "data": {
      "text/html": [
       "<div>\n",
       "<style scoped>\n",
       "    .dataframe tbody tr th:only-of-type {\n",
       "        vertical-align: middle;\n",
       "    }\n",
       "\n",
       "    .dataframe tbody tr th {\n",
       "        vertical-align: top;\n",
       "    }\n",
       "\n",
       "    .dataframe thead th {\n",
       "        text-align: right;\n",
       "    }\n",
       "</style>\n",
       "<table border=\"1\" class=\"dataframe\">\n",
       "  <thead>\n",
       "    <tr style=\"text-align: right;\">\n",
       "      <th></th>\n",
       "      <th>Price</th>\n",
       "      <th>Age</th>\n",
       "      <th>KM</th>\n",
       "      <th>FuelType</th>\n",
       "      <th>HP</th>\n",
       "      <th>MetColor</th>\n",
       "      <th>Automatic</th>\n",
       "      <th>CC</th>\n",
       "      <th>Doors</th>\n",
       "      <th>Weight</th>\n",
       "    </tr>\n",
       "  </thead>\n",
       "  <tbody>\n",
       "    <tr>\n",
       "      <th>0</th>\n",
       "      <td>7450.0</td>\n",
       "      <td>65.0</td>\n",
       "      <td>82000.0</td>\n",
       "      <td>Petrol</td>\n",
       "      <td>86.0</td>\n",
       "      <td>1</td>\n",
       "      <td>0</td>\n",
       "      <td>1300.0</td>\n",
       "      <td>3</td>\n",
       "      <td>1015.0</td>\n",
       "    </tr>\n",
       "    <tr>\n",
       "      <th>1</th>\n",
       "      <td>NaN</td>\n",
       "      <td>74.0</td>\n",
       "      <td>NaN</td>\n",
       "      <td>Petrol</td>\n",
       "      <td>NaN</td>\n",
       "      <td>1</td>\n",
       "      <td>0</td>\n",
       "      <td>NaN</td>\n",
       "      <td>3</td>\n",
       "      <td>1050.0</td>\n",
       "    </tr>\n",
       "    <tr>\n",
       "      <th>2</th>\n",
       "      <td>8950.0</td>\n",
       "      <td>80.0</td>\n",
       "      <td>64000.0</td>\n",
       "      <td>NaN</td>\n",
       "      <td>110.0</td>\n",
       "      <td>0</td>\n",
       "      <td>NaN</td>\n",
       "      <td>1600.0</td>\n",
       "      <td>Three</td>\n",
       "      <td>NaN</td>\n",
       "    </tr>\n",
       "    <tr>\n",
       "      <th>3</th>\n",
       "      <td>11450.0</td>\n",
       "      <td>54.0</td>\n",
       "      <td>NaN</td>\n",
       "      <td>Petrol</td>\n",
       "      <td>NaN</td>\n",
       "      <td>0</td>\n",
       "      <td>0</td>\n",
       "      <td>NaN</td>\n",
       "      <td>5</td>\n",
       "      <td>1080.0</td>\n",
       "    </tr>\n",
       "    <tr>\n",
       "      <th>4</th>\n",
       "      <td>NaN</td>\n",
       "      <td>42.0</td>\n",
       "      <td>NaN</td>\n",
       "      <td>Petrol</td>\n",
       "      <td>110.0</td>\n",
       "      <td>1</td>\n",
       "      <td>0</td>\n",
       "      <td>1600.0</td>\n",
       "      <td>NaN</td>\n",
       "      <td>1040.0</td>\n",
       "    </tr>\n",
       "    <tr>\n",
       "      <th>...</th>\n",
       "      <td>...</td>\n",
       "      <td>...</td>\n",
       "      <td>...</td>\n",
       "      <td>...</td>\n",
       "      <td>...</td>\n",
       "      <td>...</td>\n",
       "      <td>...</td>\n",
       "      <td>...</td>\n",
       "      <td>...</td>\n",
       "      <td>...</td>\n",
       "    </tr>\n",
       "    <tr>\n",
       "      <th>1441</th>\n",
       "      <td>8750.0</td>\n",
       "      <td>68.0</td>\n",
       "      <td>101889.0</td>\n",
       "      <td>petrol</td>\n",
       "      <td>110.0</td>\n",
       "      <td>1</td>\n",
       "      <td>0</td>\n",
       "      <td>1600.0</td>\n",
       "      <td>5</td>\n",
       "      <td>1075.0</td>\n",
       "    </tr>\n",
       "    <tr>\n",
       "      <th>1442</th>\n",
       "      <td>9950.0</td>\n",
       "      <td>62.0</td>\n",
       "      <td>109547.0</td>\n",
       "      <td>petrol</td>\n",
       "      <td>110.0</td>\n",
       "      <td>0</td>\n",
       "      <td>0</td>\n",
       "      <td>1600.0</td>\n",
       "      <td>5</td>\n",
       "      <td>1075.0</td>\n",
       "    </tr>\n",
       "    <tr>\n",
       "      <th>1443</th>\n",
       "      <td>9250.0</td>\n",
       "      <td>80.0</td>\n",
       "      <td>44444.0</td>\n",
       "      <td>Petrol</td>\n",
       "      <td>110.0</td>\n",
       "      <td>1</td>\n",
       "      <td>0</td>\n",
       "      <td>1600.0</td>\n",
       "      <td>3</td>\n",
       "      <td>1050.0</td>\n",
       "    </tr>\n",
       "    <tr>\n",
       "      <th>1444</th>\n",
       "      <td>12450.0</td>\n",
       "      <td>54.0</td>\n",
       "      <td>46230.0</td>\n",
       "      <td>Petrol</td>\n",
       "      <td>110.0</td>\n",
       "      <td>1</td>\n",
       "      <td>0</td>\n",
       "      <td>1600.0</td>\n",
       "      <td>3</td>\n",
       "      <td>1055.0</td>\n",
       "    </tr>\n",
       "    <tr>\n",
       "      <th>1445</th>\n",
       "      <td>8500.0</td>\n",
       "      <td>77.0</td>\n",
       "      <td>62285.0</td>\n",
       "      <td>Petrol</td>\n",
       "      <td>110.0</td>\n",
       "      <td>1</td>\n",
       "      <td>0</td>\n",
       "      <td>1600.0</td>\n",
       "      <td>5</td>\n",
       "      <td>1075.0</td>\n",
       "    </tr>\n",
       "  </tbody>\n",
       "</table>\n",
       "<p>1446 rows × 10 columns</p>\n",
       "</div>"
      ],
      "text/plain": [
       "        Price   Age        KM FuelType     HP  MetColor Automatic      CC  \\\n",
       "0      7450.0  65.0   82000.0   Petrol   86.0         1         0  1300.0   \n",
       "1         NaN  74.0       NaN   Petrol    NaN         1         0     NaN   \n",
       "2      8950.0  80.0   64000.0      NaN  110.0         0       NaN  1600.0   \n",
       "3     11450.0  54.0       NaN   Petrol    NaN         0         0     NaN   \n",
       "4         NaN  42.0       NaN   Petrol  110.0         1         0  1600.0   \n",
       "...       ...   ...       ...      ...    ...       ...       ...     ...   \n",
       "1441   8750.0  68.0  101889.0   petrol  110.0         1         0  1600.0   \n",
       "1442   9950.0  62.0  109547.0   petrol  110.0         0         0  1600.0   \n",
       "1443   9250.0  80.0   44444.0   Petrol  110.0         1         0  1600.0   \n",
       "1444  12450.0  54.0   46230.0   Petrol  110.0         1         0  1600.0   \n",
       "1445   8500.0  77.0   62285.0   Petrol  110.0         1         0  1600.0   \n",
       "\n",
       "      Doors  Weight  \n",
       "0         3  1015.0  \n",
       "1         3  1050.0  \n",
       "2     Three     NaN  \n",
       "3         5  1080.0  \n",
       "4       NaN  1040.0  \n",
       "...     ...     ...  \n",
       "1441      5  1075.0  \n",
       "1442      5  1075.0  \n",
       "1443      3  1050.0  \n",
       "1444      3  1055.0  \n",
       "1445      5  1075.0  \n",
       "\n",
       "[1446 rows x 10 columns]"
      ]
     },
     "execution_count": 17,
     "metadata": {},
     "output_type": "execute_result"
    }
   ],
   "source": [
    "import pandas as pd\n",
    "data=pd.read_csv(\"Toyota.csv\",na_values=['##','####'])\n",
    "data"
   ]
  },
  {
   "cell_type": "code",
   "execution_count": 18,
   "id": "iraqi-times",
   "metadata": {},
   "outputs": [
    {
     "data": {
      "text/plain": [
       "Price         9\n",
       "Age           5\n",
       "KM           10\n",
       "FuelType      1\n",
       "HP            3\n",
       "MetColor      0\n",
       "Automatic     1\n",
       "CC            3\n",
       "Doors         2\n",
       "Weight        1\n",
       "dtype: int64"
      ]
     },
     "execution_count": 18,
     "metadata": {},
     "output_type": "execute_result"
    }
   ],
   "source": [
    "data.isnull().sum()"
   ]
  },
  {
   "cell_type": "code",
   "execution_count": 19,
   "id": "supported-cancer",
   "metadata": {},
   "outputs": [
    {
     "data": {
      "text/html": [
       "<div>\n",
       "<style scoped>\n",
       "    .dataframe tbody tr th:only-of-type {\n",
       "        vertical-align: middle;\n",
       "    }\n",
       "\n",
       "    .dataframe tbody tr th {\n",
       "        vertical-align: top;\n",
       "    }\n",
       "\n",
       "    .dataframe thead th {\n",
       "        text-align: right;\n",
       "    }\n",
       "</style>\n",
       "<table border=\"1\" class=\"dataframe\">\n",
       "  <thead>\n",
       "    <tr style=\"text-align: right;\">\n",
       "      <th></th>\n",
       "      <th>Price</th>\n",
       "      <th>Age</th>\n",
       "      <th>KM</th>\n",
       "      <th>FuelType</th>\n",
       "      <th>HP</th>\n",
       "      <th>MetColor</th>\n",
       "      <th>Automatic</th>\n",
       "      <th>CC</th>\n",
       "      <th>Doors</th>\n",
       "      <th>Weight</th>\n",
       "    </tr>\n",
       "  </thead>\n",
       "  <tbody>\n",
       "    <tr>\n",
       "      <th>0</th>\n",
       "      <td>7450.000000</td>\n",
       "      <td>65.0</td>\n",
       "      <td>82000.000000</td>\n",
       "      <td>Petrol</td>\n",
       "      <td>86.00000</td>\n",
       "      <td>1</td>\n",
       "      <td>0</td>\n",
       "      <td>1300.000000</td>\n",
       "      <td>3</td>\n",
       "      <td>1015.000000</td>\n",
       "    </tr>\n",
       "    <tr>\n",
       "      <th>1</th>\n",
       "      <td>10729.272095</td>\n",
       "      <td>74.0</td>\n",
       "      <td>68522.860028</td>\n",
       "      <td>Petrol</td>\n",
       "      <td>101.45045</td>\n",
       "      <td>1</td>\n",
       "      <td>0</td>\n",
       "      <td>1566.988912</td>\n",
       "      <td>3</td>\n",
       "      <td>1050.000000</td>\n",
       "    </tr>\n",
       "    <tr>\n",
       "      <th>2</th>\n",
       "      <td>8950.000000</td>\n",
       "      <td>80.0</td>\n",
       "      <td>64000.000000</td>\n",
       "      <td>Petrol</td>\n",
       "      <td>110.00000</td>\n",
       "      <td>0</td>\n",
       "      <td>0</td>\n",
       "      <td>1600.000000</td>\n",
       "      <td>Three</td>\n",
       "      <td>1072.402768</td>\n",
       "    </tr>\n",
       "    <tr>\n",
       "      <th>3</th>\n",
       "      <td>11450.000000</td>\n",
       "      <td>54.0</td>\n",
       "      <td>68522.860028</td>\n",
       "      <td>Petrol</td>\n",
       "      <td>101.45045</td>\n",
       "      <td>0</td>\n",
       "      <td>0</td>\n",
       "      <td>1566.988912</td>\n",
       "      <td>5</td>\n",
       "      <td>1080.000000</td>\n",
       "    </tr>\n",
       "    <tr>\n",
       "      <th>4</th>\n",
       "      <td>10729.272095</td>\n",
       "      <td>42.0</td>\n",
       "      <td>68522.860028</td>\n",
       "      <td>Petrol</td>\n",
       "      <td>110.00000</td>\n",
       "      <td>1</td>\n",
       "      <td>0</td>\n",
       "      <td>1600.000000</td>\n",
       "      <td>5</td>\n",
       "      <td>1040.000000</td>\n",
       "    </tr>\n",
       "    <tr>\n",
       "      <th>...</th>\n",
       "      <td>...</td>\n",
       "      <td>...</td>\n",
       "      <td>...</td>\n",
       "      <td>...</td>\n",
       "      <td>...</td>\n",
       "      <td>...</td>\n",
       "      <td>...</td>\n",
       "      <td>...</td>\n",
       "      <td>...</td>\n",
       "      <td>...</td>\n",
       "    </tr>\n",
       "    <tr>\n",
       "      <th>1441</th>\n",
       "      <td>8750.000000</td>\n",
       "      <td>68.0</td>\n",
       "      <td>101889.000000</td>\n",
       "      <td>petrol</td>\n",
       "      <td>110.00000</td>\n",
       "      <td>1</td>\n",
       "      <td>0</td>\n",
       "      <td>1600.000000</td>\n",
       "      <td>5</td>\n",
       "      <td>1075.000000</td>\n",
       "    </tr>\n",
       "    <tr>\n",
       "      <th>1442</th>\n",
       "      <td>9950.000000</td>\n",
       "      <td>62.0</td>\n",
       "      <td>109547.000000</td>\n",
       "      <td>petrol</td>\n",
       "      <td>110.00000</td>\n",
       "      <td>0</td>\n",
       "      <td>0</td>\n",
       "      <td>1600.000000</td>\n",
       "      <td>5</td>\n",
       "      <td>1075.000000</td>\n",
       "    </tr>\n",
       "    <tr>\n",
       "      <th>1443</th>\n",
       "      <td>9250.000000</td>\n",
       "      <td>80.0</td>\n",
       "      <td>44444.000000</td>\n",
       "      <td>Petrol</td>\n",
       "      <td>110.00000</td>\n",
       "      <td>1</td>\n",
       "      <td>0</td>\n",
       "      <td>1600.000000</td>\n",
       "      <td>3</td>\n",
       "      <td>1050.000000</td>\n",
       "    </tr>\n",
       "    <tr>\n",
       "      <th>1444</th>\n",
       "      <td>12450.000000</td>\n",
       "      <td>54.0</td>\n",
       "      <td>46230.000000</td>\n",
       "      <td>Petrol</td>\n",
       "      <td>110.00000</td>\n",
       "      <td>1</td>\n",
       "      <td>0</td>\n",
       "      <td>1600.000000</td>\n",
       "      <td>3</td>\n",
       "      <td>1055.000000</td>\n",
       "    </tr>\n",
       "    <tr>\n",
       "      <th>1445</th>\n",
       "      <td>8500.000000</td>\n",
       "      <td>77.0</td>\n",
       "      <td>62285.000000</td>\n",
       "      <td>Petrol</td>\n",
       "      <td>110.00000</td>\n",
       "      <td>1</td>\n",
       "      <td>0</td>\n",
       "      <td>1600.000000</td>\n",
       "      <td>5</td>\n",
       "      <td>1075.000000</td>\n",
       "    </tr>\n",
       "  </tbody>\n",
       "</table>\n",
       "<p>1446 rows × 10 columns</p>\n",
       "</div>"
      ],
      "text/plain": [
       "             Price   Age             KM FuelType         HP  MetColor  \\\n",
       "0      7450.000000  65.0   82000.000000   Petrol   86.00000         1   \n",
       "1     10729.272095  74.0   68522.860028   Petrol  101.45045         1   \n",
       "2      8950.000000  80.0   64000.000000   Petrol  110.00000         0   \n",
       "3     11450.000000  54.0   68522.860028   Petrol  101.45045         0   \n",
       "4     10729.272095  42.0   68522.860028   Petrol  110.00000         1   \n",
       "...            ...   ...            ...      ...        ...       ...   \n",
       "1441   8750.000000  68.0  101889.000000   petrol  110.00000         1   \n",
       "1442   9950.000000  62.0  109547.000000   petrol  110.00000         0   \n",
       "1443   9250.000000  80.0   44444.000000   Petrol  110.00000         1   \n",
       "1444  12450.000000  54.0   46230.000000   Petrol  110.00000         1   \n",
       "1445   8500.000000  77.0   62285.000000   Petrol  110.00000         1   \n",
       "\n",
       "     Automatic           CC  Doors       Weight  \n",
       "0            0  1300.000000      3  1015.000000  \n",
       "1            0  1566.988912      3  1050.000000  \n",
       "2            0  1600.000000  Three  1072.402768  \n",
       "3            0  1566.988912      5  1080.000000  \n",
       "4            0  1600.000000      5  1040.000000  \n",
       "...        ...          ...    ...          ...  \n",
       "1441         0  1600.000000      5  1075.000000  \n",
       "1442         0  1600.000000      5  1075.000000  \n",
       "1443         0  1600.000000      3  1050.000000  \n",
       "1444         0  1600.000000      3  1055.000000  \n",
       "1445         0  1600.000000      5  1075.000000  \n",
       "\n",
       "[1446 rows x 10 columns]"
      ]
     },
     "execution_count": 19,
     "metadata": {},
     "output_type": "execute_result"
    }
   ],
   "source": [
    "data=data.apply(lambda x:x.fillna(x.mean()) if x.dtypes=='float'  else x.fillna(x.value_counts().index[0]))\n",
    "data"
   ]
  },
  {
   "cell_type": "code",
   "execution_count": 20,
   "id": "french-moses",
   "metadata": {},
   "outputs": [
    {
     "data": {
      "text/plain": [
       "(1446, 10)"
      ]
     },
     "execution_count": 20,
     "metadata": {},
     "output_type": "execute_result"
    }
   ],
   "source": [
    "data.shape"
   ]
  },
  {
   "cell_type": "code",
   "execution_count": 21,
   "id": "palestinian-clinton",
   "metadata": {},
   "outputs": [
    {
     "data": {
      "text/plain": [
       "Index(['Price', 'Age', 'KM', 'FuelType', 'HP', 'MetColor', 'Automatic', 'CC',\n",
       "       'Doors', 'Weight'],\n",
       "      dtype='object')"
      ]
     },
     "execution_count": 21,
     "metadata": {},
     "output_type": "execute_result"
    }
   ],
   "source": [
    "data.columns"
   ]
  },
  {
   "cell_type": "code",
   "execution_count": 22,
   "id": "acoustic-complex",
   "metadata": {},
   "outputs": [
    {
     "data": {
      "text/plain": [
       "Price        float64\n",
       "Age          float64\n",
       "KM           float64\n",
       "FuelType      object\n",
       "HP           float64\n",
       "MetColor       int64\n",
       "Automatic     object\n",
       "CC           float64\n",
       "Doors         object\n",
       "Weight       float64\n",
       "dtype: object"
      ]
     },
     "execution_count": 22,
     "metadata": {},
     "output_type": "execute_result"
    }
   ],
   "source": [
    "data.dtypes"
   ]
  },
  {
   "cell_type": "code",
   "execution_count": 11,
   "id": "endangered-aaron",
   "metadata": {},
   "outputs": [
    {
     "data": {
      "text/plain": [
       "Index(['Price', 'Age', 'KM', 'FuelType', 'HP', 'MetColor', 'Automatic', 'CC',\n",
       "       'Doors', 'Weight'],\n",
       "      dtype='object')"
      ]
     },
     "execution_count": 11,
     "metadata": {},
     "output_type": "execute_result"
    }
   ],
   "source": [
    "data.columns"
   ]
  },
  {
   "cell_type": "code",
   "execution_count": 23,
   "id": "double-dodge",
   "metadata": {},
   "outputs": [],
   "source": [
    "#separate features and labels from dataset\n",
    "features=data.iloc[:,1:2].values\n",
    "labels=data.iloc[:,0:1].values"
   ]
  },
  {
   "cell_type": "code",
   "execution_count": 24,
   "id": "popular-canon",
   "metadata": {},
   "outputs": [
    {
     "data": {
      "text/html": [
       "<div>\n",
       "<style scoped>\n",
       "    .dataframe tbody tr th:only-of-type {\n",
       "        vertical-align: middle;\n",
       "    }\n",
       "\n",
       "    .dataframe tbody tr th {\n",
       "        vertical-align: top;\n",
       "    }\n",
       "\n",
       "    .dataframe thead th {\n",
       "        text-align: right;\n",
       "    }\n",
       "</style>\n",
       "<table border=\"1\" class=\"dataframe\">\n",
       "  <thead>\n",
       "    <tr style=\"text-align: right;\">\n",
       "      <th></th>\n",
       "      <th>Price</th>\n",
       "      <th>Age</th>\n",
       "      <th>KM</th>\n",
       "      <th>HP</th>\n",
       "      <th>MetColor</th>\n",
       "      <th>CC</th>\n",
       "      <th>Weight</th>\n",
       "    </tr>\n",
       "  </thead>\n",
       "  <tbody>\n",
       "    <tr>\n",
       "      <th>Price</th>\n",
       "      <td>1.000000</td>\n",
       "      <td>-0.875461</td>\n",
       "      <td>-0.569154</td>\n",
       "      <td>0.314993</td>\n",
       "      <td>0.109323</td>\n",
       "      <td>0.163238</td>\n",
       "      <td>0.579265</td>\n",
       "    </tr>\n",
       "    <tr>\n",
       "      <th>Age</th>\n",
       "      <td>-0.875461</td>\n",
       "      <td>1.000000</td>\n",
       "      <td>0.505317</td>\n",
       "      <td>-0.157985</td>\n",
       "      <td>-0.108639</td>\n",
       "      <td>-0.132723</td>\n",
       "      <td>-0.468747</td>\n",
       "    </tr>\n",
       "    <tr>\n",
       "      <th>KM</th>\n",
       "      <td>-0.569154</td>\n",
       "      <td>0.505317</td>\n",
       "      <td>1.000000</td>\n",
       "      <td>-0.333790</td>\n",
       "      <td>-0.082223</td>\n",
       "      <td>0.299544</td>\n",
       "      <td>-0.028827</td>\n",
       "    </tr>\n",
       "    <tr>\n",
       "      <th>HP</th>\n",
       "      <td>0.314993</td>\n",
       "      <td>-0.157985</td>\n",
       "      <td>-0.333790</td>\n",
       "      <td>1.000000</td>\n",
       "      <td>0.060751</td>\n",
       "      <td>0.046514</td>\n",
       "      <td>0.088021</td>\n",
       "    </tr>\n",
       "    <tr>\n",
       "      <th>MetColor</th>\n",
       "      <td>0.109323</td>\n",
       "      <td>-0.108639</td>\n",
       "      <td>-0.082223</td>\n",
       "      <td>0.060751</td>\n",
       "      <td>1.000000</td>\n",
       "      <td>0.035197</td>\n",
       "      <td>0.058173</td>\n",
       "    </tr>\n",
       "    <tr>\n",
       "      <th>CC</th>\n",
       "      <td>0.163238</td>\n",
       "      <td>-0.132723</td>\n",
       "      <td>0.299544</td>\n",
       "      <td>0.046514</td>\n",
       "      <td>0.035197</td>\n",
       "      <td>1.000000</td>\n",
       "      <td>0.652544</td>\n",
       "    </tr>\n",
       "    <tr>\n",
       "      <th>Weight</th>\n",
       "      <td>0.579265</td>\n",
       "      <td>-0.468747</td>\n",
       "      <td>-0.028827</td>\n",
       "      <td>0.088021</td>\n",
       "      <td>0.058173</td>\n",
       "      <td>0.652544</td>\n",
       "      <td>1.000000</td>\n",
       "    </tr>\n",
       "  </tbody>\n",
       "</table>\n",
       "</div>"
      ],
      "text/plain": [
       "             Price       Age        KM        HP  MetColor        CC    Weight\n",
       "Price     1.000000 -0.875461 -0.569154  0.314993  0.109323  0.163238  0.579265\n",
       "Age      -0.875461  1.000000  0.505317 -0.157985 -0.108639 -0.132723 -0.468747\n",
       "KM       -0.569154  0.505317  1.000000 -0.333790 -0.082223  0.299544 -0.028827\n",
       "HP        0.314993 -0.157985 -0.333790  1.000000  0.060751  0.046514  0.088021\n",
       "MetColor  0.109323 -0.108639 -0.082223  0.060751  1.000000  0.035197  0.058173\n",
       "CC        0.163238 -0.132723  0.299544  0.046514  0.035197  1.000000  0.652544\n",
       "Weight    0.579265 -0.468747 -0.028827  0.088021  0.058173  0.652544  1.000000"
      ]
     },
     "execution_count": 24,
     "metadata": {},
     "output_type": "execute_result"
    }
   ],
   "source": [
    "data.corr()"
   ]
  },
  {
   "cell_type": "code",
   "execution_count": 27,
   "id": "superior-indianapolis",
   "metadata": {},
   "outputs": [
    {
     "data": {
      "text/plain": [
       "LinearRegression()"
      ]
     },
     "execution_count": 27,
     "metadata": {},
     "output_type": "execute_result"
    }
   ],
   "source": [
    "from sklearn.linear_model import LinearRegression\n",
    "regressor=LinearRegression()\n",
    "regressor.fit(features,labels)"
   ]
  },
  {
   "cell_type": "code",
   "execution_count": 28,
   "id": "increased-robert",
   "metadata": {},
   "outputs": [
    {
     "name": "stdout",
     "output_type": "stream",
     "text": [
      "[[-170.57527578]]\n",
      "[20274.26679426]\n"
     ]
    }
   ],
   "source": [
    "print(regressor.coef_)\n",
    "print(regressor.intercept_)"
   ]
  },
  {
   "cell_type": "code",
   "execution_count": 29,
   "id": "palestinian-indonesian",
   "metadata": {},
   "outputs": [
    {
     "name": "stdout",
     "output_type": "stream",
     "text": [
      "[[19975.76006165]]\n"
     ]
    }
   ],
   "source": [
    "Price = regressor.coef_*1.75+regressor.intercept_\n",
    "print(Price)"
   ]
  },
  {
   "cell_type": "code",
   "execution_count": 30,
   "id": "infrared-instrument",
   "metadata": {},
   "outputs": [
    {
     "name": "stdout",
     "output_type": "stream",
     "text": [
      "[[19975.76006165]]\n"
     ]
    }
   ],
   "source": [
    "import numpy as np\n",
    "x=[1.75]\n",
    "x=np.array(x)\n",
    "x=x.reshape(1,1)\n",
    "print(regressor.predict(x))"
   ]
  },
  {
   "cell_type": "code",
   "execution_count": 31,
   "id": "mathematical-anderson",
   "metadata": {},
   "outputs": [
    {
     "name": "stdout",
     "output_type": "stream",
     "text": [
      "Accuracy of train data: 0.766431770690173\n"
     ]
    }
   ],
   "source": [
    "print('Accuracy of train data:',regressor.score(features,labels))"
   ]
  },
  {
   "cell_type": "code",
   "execution_count": null,
   "id": "plastic-silly",
   "metadata": {},
   "outputs": [],
   "source": []
  }
 ],
 "metadata": {
  "kernelspec": {
   "display_name": "Python 3",
   "language": "python",
   "name": "python3"
  },
  "language_info": {
   "codemirror_mode": {
    "name": "ipython",
    "version": 3
   },
   "file_extension": ".py",
   "mimetype": "text/x-python",
   "name": "python",
   "nbconvert_exporter": "python",
   "pygments_lexer": "ipython3",
   "version": "3.8.0"
  }
 },
 "nbformat": 4,
 "nbformat_minor": 5
}
